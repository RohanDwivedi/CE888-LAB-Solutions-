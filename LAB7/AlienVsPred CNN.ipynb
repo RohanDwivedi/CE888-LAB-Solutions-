{
  "nbformat": 4,
  "nbformat_minor": 0,
  "metadata": {
    "colab": {
      "name": "Untitled7.ipynb",
      "provenance": [],
      "collapsed_sections": []
    },
    "kernelspec": {
      "name": "python3",
      "display_name": "Python 3"
    },
    "accelerator": "TPU"
  },
  "cells": [
    {
      "cell_type": "code",
      "metadata": {
        "id": "z9VMJbpqu_V9",
        "colab_type": "code",
        "colab": {
          "base_uri": "https://localhost:8080/",
          "height": 68
        },
        "outputId": "67cd852a-7328-4f28-ae7c-21ecd7bd15b2"
      },
      "source": [
        "import os\n",
        "os.environ['KAGGLE_USERNAME'] = \"rohandwivedi\" # username from the json file\n",
        "os.environ['KAGGLE_KEY'] = \"f9dc6ff134fdd2bd299440ec5cf46888\" # key from the json file\n",
        "!kaggle datasets download -d pmigdal/alien-vs-predator-images"
      ],
      "execution_count": 2,
      "outputs": [
        {
          "output_type": "stream",
          "text": [
            "Downloading alien-vs-predator-images.zip to /content\n",
            " 35% 5.00M/14.1M [00:00<00:00, 29.7MB/s]\n",
            "100% 14.1M/14.1M [00:00<00:00, 55.9MB/s]\n"
          ],
          "name": "stdout"
        }
      ]
    },
    {
      "cell_type": "code",
      "metadata": {
        "id": "lzvO2yaAvfni",
        "colab_type": "code",
        "colab": {
          "base_uri": "https://localhost:8080/",
          "height": 34
        },
        "outputId": "e699eac5-4790-4a7f-bf8f-a33f062bb81a"
      },
      "source": [
        "from zipfile import ZipFile\n",
        "\n",
        "file_name = \"/content/alien-vs-predator-images.zip\"\n",
        "\n",
        "with ZipFile(file_name, 'r') as zip:\n",
        "  zip.extractall()\n",
        "  print('done')\n"
      ],
      "execution_count": 3,
      "outputs": [
        {
          "output_type": "stream",
          "text": [
            "done\n"
          ],
          "name": "stdout"
        }
      ]
    },
    {
      "cell_type": "code",
      "metadata": {
        "id": "yqmK7fCkvppE",
        "colab_type": "code",
        "colab": {
          "base_uri": "https://localhost:8080/",
          "height": 612
        },
        "outputId": "5fe4c635-4026-4176-8c44-9657d89a040b"
      },
      "source": [
        "%tensorflow_version 1.4\n",
        "from keras import layers\n",
        "from keras import models\n",
        "\n",
        "model = models.Sequential()\n",
        "model.add(layers.Conv2D(32, (3, 3), activation='relu', input_shape=(150, 150, 3)))\n",
        "model.add(layers.MaxPooling2D((2, 2)))\n",
        "model.add(layers.Conv2D(64, (3, 3), activation='relu'))\n",
        "model.add(layers.MaxPooling2D((2, 2)))\n",
        "model.add(layers.Conv2D(128, (3, 3), activation='relu'))\n",
        "model.add(layers.MaxPooling2D((2, 2)))\n",
        "model.add(layers.Conv2D(128, (3, 3), activation='relu'))\n",
        "model.add(layers.MaxPooling2D((2, 2)))\n",
        "model.add(layers.Flatten())\n",
        "model.add(layers.Dense(512, activation='relu'))\n",
        "model.add(layers.Dense(1, activation='sigmoid'))\n",
        "model.summary()"
      ],
      "execution_count": 4,
      "outputs": [
        {
          "output_type": "stream",
          "text": [
            "`%tensorflow_version` only switches the major version: 1.x or 2.x.\n",
            "You set: `1.4`. This will be interpreted as: `1.x`.\n",
            "\n",
            "\n",
            "TensorFlow is already loaded. Please restart the runtime to change versions.\n",
            "Model: \"sequential_2\"\n",
            "_________________________________________________________________\n",
            "Layer (type)                 Output Shape              Param #   \n",
            "=================================================================\n",
            "conv2d_5 (Conv2D)            (None, 148, 148, 32)      896       \n",
            "_________________________________________________________________\n",
            "max_pooling2d_5 (MaxPooling2 (None, 74, 74, 32)        0         \n",
            "_________________________________________________________________\n",
            "conv2d_6 (Conv2D)            (None, 72, 72, 64)        18496     \n",
            "_________________________________________________________________\n",
            "max_pooling2d_6 (MaxPooling2 (None, 36, 36, 64)        0         \n",
            "_________________________________________________________________\n",
            "conv2d_7 (Conv2D)            (None, 34, 34, 128)       73856     \n",
            "_________________________________________________________________\n",
            "max_pooling2d_7 (MaxPooling2 (None, 17, 17, 128)       0         \n",
            "_________________________________________________________________\n",
            "conv2d_8 (Conv2D)            (None, 15, 15, 128)       147584    \n",
            "_________________________________________________________________\n",
            "max_pooling2d_8 (MaxPooling2 (None, 7, 7, 128)         0         \n",
            "_________________________________________________________________\n",
            "flatten_2 (Flatten)          (None, 6272)              0         \n",
            "_________________________________________________________________\n",
            "dense_3 (Dense)              (None, 512)               3211776   \n",
            "_________________________________________________________________\n",
            "dense_4 (Dense)              (None, 1)                 513       \n",
            "=================================================================\n",
            "Total params: 3,453,121\n",
            "Trainable params: 3,453,121\n",
            "Non-trainable params: 0\n",
            "_________________________________________________________________\n"
          ],
          "name": "stdout"
        }
      ]
    },
    {
      "cell_type": "code",
      "metadata": {
        "id": "sqqwIAtdwMI2",
        "colab_type": "code",
        "colab": {
          "base_uri": "https://localhost:8080/",
          "height": 156
        },
        "outputId": "a07cbd19-a400-4ec5-fec6-d5be61c2ae43"
      },
      "source": [
        "from keras import optimizers\n",
        "model.compile(loss='binary_crossentropy', \n",
        "              optimizer=optimizers.RMSprop(lr=1e-4),\n",
        "              metrics=['acc'])"
      ],
      "execution_count": 5,
      "outputs": [
        {
          "output_type": "stream",
          "text": [
            "WARNING:tensorflow:From /usr/local/lib/python3.6/dist-packages/keras/optimizers.py:793: The name tf.train.Optimizer is deprecated. Please use tf.compat.v1.train.Optimizer instead.\n",
            "\n",
            "WARNING:tensorflow:From /usr/local/lib/python3.6/dist-packages/keras/backend/tensorflow_backend.py:3657: The name tf.log is deprecated. Please use tf.math.log instead.\n",
            "\n",
            "WARNING:tensorflow:From /tensorflow-1.15.2/python3.6/tensorflow_core/python/ops/nn_impl.py:183: where (from tensorflow.python.ops.array_ops) is deprecated and will be removed in a future version.\n",
            "Instructions for updating:\n",
            "Use tf.where in 2.0, which has the same broadcast rule as np.where\n"
          ],
          "name": "stdout"
        }
      ]
    },
    {
      "cell_type": "code",
      "metadata": {
        "id": "x35Q7PQbwVbt",
        "colab_type": "code",
        "colab": {}
      },
      "source": [
        "\n",
        "train_dir=\"data/train\"\n",
        "validation_dir=\"data/validation\""
      ],
      "execution_count": 0,
      "outputs": []
    },
    {
      "cell_type": "code",
      "metadata": {
        "id": "Ems9MrGfw8Z-",
        "colab_type": "code",
        "colab": {
          "base_uri": "https://localhost:8080/",
          "height": 51
        },
        "outputId": "98eafe64-b44f-490b-9b39-8145857d8102"
      },
      "source": [
        "from keras.preprocessing.image import ImageDataGenerator\n",
        "\n",
        "train_datagen = ImageDataGenerator(rescale=1./255)\n",
        "test_datagen = ImageDataGenerator(rescale=1./255)\n",
        "\n",
        "train_generator = train_datagen.flow_from_directory(train_dir,\n",
        "                                                    target_size=(150, 150), \n",
        "                                                    batch_size=20,\n",
        "                                                    class_mode='binary')\n",
        "\n",
        "validation_generator = test_datagen.flow_from_directory(validation_dir,\n",
        "                                                        target_size=(150, 150),\n",
        "                                                        batch_size=20,\n",
        "                                                        class_mode='binary')"
      ],
      "execution_count": 7,
      "outputs": [
        {
          "output_type": "stream",
          "text": [
            "Found 694 images belonging to 2 classes.\n",
            "Found 200 images belonging to 2 classes.\n"
          ],
          "name": "stdout"
        }
      ]
    },
    {
      "cell_type": "code",
      "metadata": {
        "id": "8KCsni0Gw-SB",
        "colab_type": "code",
        "colab": {
          "base_uri": "https://localhost:8080/",
          "height": 1000
        },
        "outputId": "d8f1c21b-4a2c-4a0b-d52c-943c892ed832"
      },
      "source": [
        "history = model.fit_generator(train_generator,\n",
        "                              steps_per_epoch=100,\n",
        "                              epochs=30,\n",
        "                              validation_data=validation_generator,\n",
        "                              validation_steps=10)"
      ],
      "execution_count": 8,
      "outputs": [
        {
          "output_type": "stream",
          "text": [
            "WARNING:tensorflow:From /usr/local/lib/python3.6/dist-packages/keras/backend/tensorflow_backend.py:1033: The name tf.assign_add is deprecated. Please use tf.compat.v1.assign_add instead.\n",
            "\n",
            "WARNING:tensorflow:From /usr/local/lib/python3.6/dist-packages/keras/backend/tensorflow_backend.py:1020: The name tf.assign is deprecated. Please use tf.compat.v1.assign instead.\n",
            "\n",
            "WARNING:tensorflow:From /usr/local/lib/python3.6/dist-packages/keras/backend/tensorflow_backend.py:3005: The name tf.Session is deprecated. Please use tf.compat.v1.Session instead.\n",
            "\n",
            "Epoch 1/30\n",
            "WARNING:tensorflow:From /usr/local/lib/python3.6/dist-packages/keras/backend/tensorflow_backend.py:190: The name tf.get_default_session is deprecated. Please use tf.compat.v1.get_default_session instead.\n",
            "\n",
            "WARNING:tensorflow:From /usr/local/lib/python3.6/dist-packages/keras/backend/tensorflow_backend.py:197: The name tf.ConfigProto is deprecated. Please use tf.compat.v1.ConfigProto instead.\n",
            "\n",
            "WARNING:tensorflow:From /usr/local/lib/python3.6/dist-packages/keras/backend/tensorflow_backend.py:207: The name tf.global_variables is deprecated. Please use tf.compat.v1.global_variables instead.\n",
            "\n",
            "WARNING:tensorflow:From /usr/local/lib/python3.6/dist-packages/keras/backend/tensorflow_backend.py:216: The name tf.is_variable_initialized is deprecated. Please use tf.compat.v1.is_variable_initialized instead.\n",
            "\n",
            "WARNING:tensorflow:From /usr/local/lib/python3.6/dist-packages/keras/backend/tensorflow_backend.py:223: The name tf.variables_initializer is deprecated. Please use tf.compat.v1.variables_initializer instead.\n",
            "\n",
            "100/100 [==============================] - 93s 931ms/step - loss: 0.6315 - acc: 0.6326 - val_loss: 0.6141 - val_acc: 0.6300\n",
            "Epoch 2/30\n",
            "100/100 [==============================] - 92s 919ms/step - loss: 0.5512 - acc: 0.7116 - val_loss: 0.6149 - val_acc: 0.6700\n",
            "Epoch 3/30\n",
            "100/100 [==============================] - 92s 917ms/step - loss: 0.4766 - acc: 0.7853 - val_loss: 0.5202 - val_acc: 0.7400\n",
            "Epoch 4/30\n",
            "100/100 [==============================] - 92s 923ms/step - loss: 0.3952 - acc: 0.8335 - val_loss: 0.5151 - val_acc: 0.7400\n",
            "Epoch 5/30\n",
            "100/100 [==============================] - 93s 928ms/step - loss: 0.3323 - acc: 0.8598 - val_loss: 0.5031 - val_acc: 0.7650\n",
            "Epoch 6/30\n",
            "100/100 [==============================] - 92s 925ms/step - loss: 0.2691 - acc: 0.8999 - val_loss: 0.5216 - val_acc: 0.7750\n",
            "Epoch 7/30\n",
            "100/100 [==============================] - 92s 921ms/step - loss: 0.2059 - acc: 0.9268 - val_loss: 0.5359 - val_acc: 0.7700\n",
            "Epoch 8/30\n",
            "100/100 [==============================] - 92s 920ms/step - loss: 0.1486 - acc: 0.9516 - val_loss: 0.5829 - val_acc: 0.7450\n",
            "Epoch 9/30\n",
            "100/100 [==============================] - 92s 923ms/step - loss: 0.1035 - acc: 0.9700 - val_loss: 0.6629 - val_acc: 0.7750\n",
            "Epoch 10/30\n",
            "100/100 [==============================] - 92s 923ms/step - loss: 0.0765 - acc: 0.9809 - val_loss: 0.7186 - val_acc: 0.7950\n",
            "Epoch 11/30\n",
            "100/100 [==============================] - 93s 928ms/step - loss: 0.0511 - acc: 0.9900 - val_loss: 0.8024 - val_acc: 0.7750\n",
            "Epoch 12/30\n",
            "100/100 [==============================] - 93s 926ms/step - loss: 0.0326 - acc: 0.9915 - val_loss: 0.8568 - val_acc: 0.7650\n",
            "Epoch 13/30\n",
            "100/100 [==============================] - 92s 922ms/step - loss: 0.0222 - acc: 0.9943 - val_loss: 0.9753 - val_acc: 0.7600\n",
            "Epoch 14/30\n",
            "100/100 [==============================] - 92s 925ms/step - loss: 0.0300 - acc: 0.9925 - val_loss: 1.0417 - val_acc: 0.7500\n",
            "Epoch 15/30\n",
            "100/100 [==============================] - 92s 921ms/step - loss: 0.0222 - acc: 0.9940 - val_loss: 0.9519 - val_acc: 0.7650\n",
            "Epoch 16/30\n",
            "100/100 [==============================] - 92s 923ms/step - loss: 0.0186 - acc: 0.9962 - val_loss: 1.0901 - val_acc: 0.7750\n",
            "Epoch 17/30\n",
            "100/100 [==============================] - 92s 923ms/step - loss: 0.0175 - acc: 0.9950 - val_loss: 1.1470 - val_acc: 0.7650\n",
            "Epoch 18/30\n",
            "100/100 [==============================] - 92s 921ms/step - loss: 0.0221 - acc: 0.9950 - val_loss: 1.2713 - val_acc: 0.7700\n",
            "Epoch 19/30\n",
            "100/100 [==============================] - 92s 922ms/step - loss: 0.0073 - acc: 0.9975 - val_loss: 1.2645 - val_acc: 0.7800\n",
            "Epoch 20/30\n",
            "100/100 [==============================] - 92s 923ms/step - loss: 0.0146 - acc: 0.9945 - val_loss: 1.3364 - val_acc: 0.7700\n",
            "Epoch 21/30\n",
            "100/100 [==============================] - 92s 923ms/step - loss: 0.0123 - acc: 0.9960 - val_loss: 1.2820 - val_acc: 0.7550\n",
            "Epoch 22/30\n",
            "100/100 [==============================] - 92s 921ms/step - loss: 0.0138 - acc: 0.9973 - val_loss: 1.3701 - val_acc: 0.7600\n",
            "Epoch 23/30\n",
            "100/100 [==============================] - 92s 922ms/step - loss: 0.0046 - acc: 0.9969 - val_loss: 1.4872 - val_acc: 0.7650\n",
            "Epoch 24/30\n",
            "100/100 [==============================] - 92s 923ms/step - loss: 0.0251 - acc: 0.9955 - val_loss: 1.4733 - val_acc: 0.7600\n",
            "Epoch 25/30\n",
            "100/100 [==============================] - 92s 924ms/step - loss: 0.0099 - acc: 0.9975 - val_loss: 1.4753 - val_acc: 0.7850\n",
            "Epoch 26/30\n",
            "100/100 [==============================] - 93s 927ms/step - loss: 0.0127 - acc: 0.9970 - val_loss: 1.5542 - val_acc: 0.7950\n",
            "Epoch 27/30\n",
            "100/100 [==============================] - 93s 934ms/step - loss: 1.1336e-04 - acc: 1.0000 - val_loss: 1.6452 - val_acc: 0.7450\n",
            "Epoch 28/30\n",
            "100/100 [==============================] - 93s 928ms/step - loss: 0.0055 - acc: 0.9985 - val_loss: 1.6335 - val_acc: 0.7500\n",
            "Epoch 29/30\n",
            "100/100 [==============================] - 92s 923ms/step - loss: 0.0048 - acc: 0.9975 - val_loss: 1.5362 - val_acc: 0.7750\n",
            "Epoch 30/30\n",
            "100/100 [==============================] - 93s 927ms/step - loss: 0.0195 - acc: 0.9965 - val_loss: 1.6329 - val_acc: 0.7500\n"
          ],
          "name": "stdout"
        }
      ]
    },
    {
      "cell_type": "code",
      "metadata": {
        "id": "zaWKgNPLxAqs",
        "colab_type": "code",
        "colab": {
          "base_uri": "https://localhost:8080/",
          "height": 545
        },
        "outputId": "791a7343-d13b-483b-ed0b-f71ff7f0300c"
      },
      "source": [
        "model.save('aliensVsPredators_1.h5')\n",
        "\n",
        "import matplotlib.pyplot as plt\n",
        "\n",
        "acc = history.history['acc']\n",
        "val_acc = history.history['val_acc']\n",
        "loss = history.history['loss']\n",
        "val_loss = history.history['val_loss']\n",
        "\n",
        "epochs = range(1, len(acc) + 1)\n",
        "\n",
        "plt.plot(epochs, acc, 'bo', label='Training acc')\n",
        "plt.plot(epochs, val_acc, 'b', label='Validation acc')\n",
        "plt.title('Training and validation accuracy')\n",
        "plt.legend()\n",
        "\n",
        "plt.figure()\n",
        "\n",
        "plt.plot(epochs, loss, 'bo', label='Training loss')\n",
        "plt.plot(epochs, val_loss, 'b', label='Validation loss')\n",
        "plt.title('Training and validation loss')\n",
        "plt.legend()\n",
        "\n",
        "plt.show()"
      ],
      "execution_count": 9,
      "outputs": [
        {
          "output_type": "display_data",
          "data": {
            "image/png": "[encoded data removed]",
            "text/plain": [
              "<Figure size 432x288 with 1 Axes>"
            ]
          },
          "metadata": {
            "tags": []
          }
        },
        {
          "output_type": "display_data",
          "data": {
            "image/png": "[encoded data removed]",
            "text/plain": [
              "<Figure size 432x288 with 1 Axes>"
            ]
          },
          "metadata": {
            "tags": []
          }
        }
      ]
    },
    {
      "cell_type": "code",
      "metadata": {
        "id": "tBiMwwK9xNQJ",
        "colab_type": "code",
        "colab": {}
      },
      "source": [
        ""
      ],
      "execution_count": 0,
      "outputs": []
    }
  ]
}