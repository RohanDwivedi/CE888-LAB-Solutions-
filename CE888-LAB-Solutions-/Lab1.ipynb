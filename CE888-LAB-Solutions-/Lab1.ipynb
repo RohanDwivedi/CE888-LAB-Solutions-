{
  "nbformat": 4,
  "nbformat_minor": 0,
  "metadata": {
    "colab": {
      "name": "Untitled2.ipynb",
      "provenance": [],
      "collapsed_sections": [],
      "authorship_tag": "ABX9TyP2GZ+JYDtAXlN71fzMn5of",
      "include_colab_link": true
    },
    "kernelspec": {
      "name": "python3",
      "display_name": "Python 3"
    }
  },
  "cells": [
    {
      "cell_type": "markdown",
      "metadata": {
        "id": "view-in-github",
        "colab_type": "text"
      },
      "source": [
        "<a href=\"https://colab.research.google.com/github/rohan260696/CE888-LAB-Solutions-/blob/master/CE888-LAB-Solutions-/Lab1.ipynb\" target=\"_parent\"><img src=\"https://colab.research.google.com/assets/colab-badge.svg\" alt=\"Open In Colab\"/></a>"
      ]
    },
    {
      "cell_type": "markdown",
      "metadata": {
        "id": "bxEUgVWk1ckg",
        "colab_type": "text"
      },
      "source": [
        "# CE888 DATA SCIENCE AND DECISION MAKING \n",
        "##LAB 1 Solutions "
      ]
    },
    {
      "cell_type": "markdown",
      "metadata": {
        "id": "p4tj9V0c2aav",
        "colab_type": "text"
      },
      "source": [
        "1. Create a (4 x 2) integer array and print it's attributes"
      ]
    },
    {
      "cell_type": "code",
      "metadata": {
        "id": "3Vie996u29mI",
        "colab_type": "code",
        "colab": {}
      },
      "source": [
        "array = [[2,3],[3,5],[6,7],[9, 10]]"
      ],
      "execution_count": 0,
      "outputs": []
    },
    {
      "cell_type": "code",
      "metadata": {
        "id": "OKyUWVID3hrP",
        "colab_type": "code",
        "colab": {
          "base_uri": "https://localhost:8080/",
          "height": 34
        },
        "outputId": "ce670db7-8e4f-4390-cf4d-21ef1f86fbf6"
      },
      "source": [
        "array"
      ],
      "execution_count": 7,
      "outputs": [
        {
          "output_type": "execute_result",
          "data": {
            "text/plain": [
              "[[2, 3], [3, 5], [6, 7], [9, 10]]"
            ]
          },
          "metadata": {
            "tags": []
          },
          "execution_count": 7
        }
      ]
    },
    {
      "cell_type": "markdown",
      "metadata": {
        "id": "JPCy8_VS4KAB",
        "colab_type": "text"
      },
      "source": [
        "2. create an array of dimension (1,10) and sort it in ascending and descending order"
      ]
    },
    {
      "cell_type": "code",
      "metadata": {
        "id": "zzcj1thD4Vne",
        "colab_type": "code",
        "colab": {}
      },
      "source": [
        "arr2 = []\n",
        "for i in range (0,10):\n",
        "  arr2.append(i)"
      ],
      "execution_count": 0,
      "outputs": []
    },
    {
      "cell_type": "code",
      "metadata": {
        "id": "ygvpukpv4kBJ",
        "colab_type": "code",
        "colab": {
          "base_uri": "https://localhost:8080/",
          "height": 34
        },
        "outputId": "5c28a788-4e00-4012-9502-14ee07ba155d"
      },
      "source": [
        "arr2 \n",
        "# ascending order"
      ],
      "execution_count": 70,
      "outputs": [
        {
          "output_type": "execute_result",
          "data": {
            "text/plain": [
              "[0, 1, 2, 3, 4, 5, 6, 7, 8, 9]"
            ]
          },
          "metadata": {
            "tags": []
          },
          "execution_count": 70
        }
      ]
    },
    {
      "cell_type": "code",
      "metadata": {
        "id": "bjyf0UXJ4oEl",
        "colab_type": "code",
        "colab": {}
      },
      "source": [
        "arr2.sort(reverse = True) "
      ],
      "execution_count": 0,
      "outputs": []
    },
    {
      "cell_type": "code",
      "metadata": {
        "id": "qvb8lb3i4y4q",
        "colab_type": "code",
        "colab": {
          "base_uri": "https://localhost:8080/",
          "height": 34
        },
        "outputId": "10819fe6-c910-4121-929b-ec803234b739"
      },
      "source": [
        "arr2\n",
        "# descending order "
      ],
      "execution_count": 74,
      "outputs": [
        {
          "output_type": "execute_result",
          "data": {
            "text/plain": [
              "[9, 8, 7, 6, 5, 4, 3, 2, 1, 0]"
            ]
          },
          "metadata": {
            "tags": []
          },
          "execution_count": 74
        }
      ]
    },
    {
      "cell_type": "markdown",
      "metadata": {
        "id": "Q7WJH5y-47vK",
        "colab_type": "text"
      },
      "source": [
        "3. Convert an 1D array [1 2 3 4 5 6 7 8 9] to 2D array [[1 2 3], [4 5 6], [7 8 9]]\n"
      ]
    },
    {
      "cell_type": "code",
      "metadata": {
        "id": "K_K4Q3Vw5LN5",
        "colab_type": "code",
        "colab": {}
      },
      "source": [
        "import numpy as np\n",
        "arr3 = [1,2,3,4,5,6,7,8,9]\n",
        "arr3_2D = np.reshape(arr3,(-1,3))"
      ],
      "execution_count": 0,
      "outputs": []
    },
    {
      "cell_type": "code",
      "metadata": {
        "id": "5lOQtc4u5ZC6",
        "colab_type": "code",
        "colab": {
          "base_uri": "https://localhost:8080/",
          "height": 68
        },
        "outputId": "6d8f2af8-58e7-46a0-ba42-04a4033beb04"
      },
      "source": [
        "arr3_2D"
      ],
      "execution_count": 34,
      "outputs": [
        {
          "output_type": "execute_result",
          "data": {
            "text/plain": [
              "array([[1, 2, 3],\n",
              "       [4, 5, 6],\n",
              "       [7, 8, 9]])"
            ]
          },
          "metadata": {
            "tags": []
          },
          "execution_count": 34
        }
      ]
    },
    {
      "cell_type": "markdown",
      "metadata": {
        "id": "SDIXV1fe5Z51",
        "colab_type": "text"
      },
      "source": [
        "4.Stack two arrays of any size horizontally and vertically"
      ]
    },
    {
      "cell_type": "code",
      "metadata": {
        "id": "a02NbIZi6KGK",
        "colab_type": "code",
        "colab": {}
      },
      "source": [
        "arr4 = []\n",
        "arr5 = []\n",
        "for i in range (0,4):\n",
        "  arr4.append(i)\n",
        "for j in range (5,9):\n",
        "  arr5.append(j)"
      ],
      "execution_count": 0,
      "outputs": []
    },
    {
      "cell_type": "code",
      "metadata": {
        "id": "vX9LR7EB655K",
        "colab_type": "code",
        "colab": {
          "base_uri": "https://localhost:8080/",
          "height": 187
        },
        "outputId": "631225b5-4ea8-4d17-bcad-cac5a0f5f4d5"
      },
      "source": [
        "print (arr4)\n",
        "print (arr5)\n",
        "horizontalStack = np.stack((arr4,arr5),axis = 0)\n",
        "print(\"horizontal: \\n\", horizontalStack)\n",
        "verticalStack = np.stack((arr4,arr5),axis = 1)\n",
        "print(\"vertical: \\n\", verticalStack)"
      ],
      "execution_count": 51,
      "outputs": [
        {
          "output_type": "stream",
          "text": [
            "[0, 1, 2, 3]\n",
            "[5, 6, 7, 8]\n",
            "horizontal: \n",
            " [[0 1 2 3]\n",
            " [5 6 7 8]]\n",
            "vertical: \n",
            " [[0 5]\n",
            " [1 6]\n",
            " [2 7]\n",
            " [3 8]]\n"
          ],
          "name": "stdout"
        }
      ]
    },
    {
      "cell_type": "markdown",
      "metadata": {
        "id": "g5ZYlb6Q7D9y",
        "colab_type": "text"
      },
      "source": [
        "5.Create two array of same size and find common elements"
      ]
    },
    {
      "cell_type": "code",
      "metadata": {
        "id": "My-s_V8c8ZjG",
        "colab_type": "code",
        "colab": {}
      },
      "source": [
        "arr6 = []\n",
        "arr7 = []\n",
        "for i in range (0,5):\n",
        "  arr6.append(i)\n",
        "for j in range (3,8):\n",
        "  arr7.append(j)"
      ],
      "execution_count": 0,
      "outputs": []
    },
    {
      "cell_type": "code",
      "metadata": {
        "id": "XpHqeFTZ82bK",
        "colab_type": "code",
        "colab": {
          "base_uri": "https://localhost:8080/",
          "height": 68
        },
        "outputId": "895252e4-99f3-4fb8-c911-55d50349a2b5"
      },
      "source": [
        "print(arr6)\n",
        "print(arr7)\n",
        "print (\"common elements are: \", np.intersect1d(arr6,arr7))"
      ],
      "execution_count": 56,
      "outputs": [
        {
          "output_type": "stream",
          "text": [
            "[0, 1, 2, 3, 4]\n",
            "[3, 4, 5, 6, 7]\n",
            "common elements are:  [3 4]\n"
          ],
          "name": "stdout"
        }
      ]
    },
    {
      "cell_type": "markdown",
      "metadata": {
        "id": "B6Pge23D-ARO",
        "colab_type": "text"
      },
      "source": [
        "6. Create a 2D array of 5 by 5 and find the min and max values from each row and each column"
      ]
    },
    {
      "cell_type": "code",
      "metadata": {
        "id": "eeZu5e4J-ZAW",
        "colab_type": "code",
        "colab": {
          "base_uri": "https://localhost:8080/",
          "height": 102
        },
        "outputId": "5af35049-721b-4b72-9fb3-0b8649e7b905"
      },
      "source": [
        "arr8 = np.random.random((5,5))\n",
        "arr8"
      ],
      "execution_count": 67,
      "outputs": [
        {
          "output_type": "execute_result",
          "data": {
            "text/plain": [
              "array([[0.59028617, 0.77378827, 0.27219046, 0.33171157, 0.75794472],\n",
              "       [0.47386794, 0.24421162, 0.98842243, 0.79030143, 0.43561304],\n",
              "       [0.54227464, 0.20182842, 0.66804983, 0.22641286, 0.00304085],\n",
              "       [0.22100691, 0.45938514, 0.09385601, 0.28140292, 0.28822723],\n",
              "       [0.90552994, 0.43258182, 0.38166953, 0.3111311 , 0.89635289]])"
            ]
          },
          "metadata": {
            "tags": []
          },
          "execution_count": 67
        }
      ]
    },
    {
      "cell_type": "code",
      "metadata": {
        "id": "DUYcYndM--zX",
        "colab_type": "code",
        "colab": {
          "base_uri": "https://localhost:8080/",
          "height": 51
        },
        "outputId": "1b1caa97-2548-4305-efac-457b311deed7"
      },
      "source": [
        "print(\"max:\", arr8.max())\n",
        "print(\"min:\", arr8.min())"
      ],
      "execution_count": 68,
      "outputs": [
        {
          "output_type": "stream",
          "text": [
            "max: 0.9884224295793863\n",
            "min: 0.003040852161128038\n"
          ],
          "name": "stdout"
        }
      ]
    },
    {
      "cell_type": "markdown",
      "metadata": {
        "id": "wdLZPzGK-_mK",
        "colab_type": "text"
      },
      "source": [
        "7.Create an array of size 100 and compute the mean, median, standard deviation."
      ]
    },
    {
      "cell_type": "code",
      "metadata": {
        "id": "6Et0nYV6A6aE",
        "colab_type": "code",
        "colab": {
          "base_uri": "https://localhost:8080/",
          "height": 442
        },
        "outputId": "5b6696f8-44e8-4193-b18d-2c1a59df7922"
      },
      "source": [
        "arr9 = np.random.random((100))\n",
        "arr9"
      ],
      "execution_count": 78,
      "outputs": [
        {
          "output_type": "execute_result",
          "data": {
            "text/plain": [
              "array([9.47641898e-04, 4.68082959e-01, 2.05465387e-01, 8.49293840e-01,\n",
              "       9.25129780e-01, 6.41569975e-01, 6.25656723e-01, 2.63578950e-01,\n",
              "       3.89370287e-01, 6.36801760e-01, 9.18547247e-02, 5.58009435e-01,\n",
              "       6.88037655e-01, 5.81225151e-01, 4.07857286e-01, 1.59044810e-01,\n",
              "       7.48281869e-01, 4.11961726e-01, 4.51953973e-01, 5.36874594e-01,\n",
              "       6.05207913e-01, 2.01182161e-01, 7.81208255e-01, 5.65680787e-01,\n",
              "       3.02272175e-01, 7.79653566e-01, 9.10095248e-01, 2.71004880e-01,\n",
              "       5.24344358e-01, 7.02725289e-02, 3.00407115e-01, 8.19883751e-01,\n",
              "       9.61243100e-01, 4.59375402e-01, 8.32503987e-01, 8.65777144e-01,\n",
              "       2.66078737e-01, 3.95407714e-01, 3.74053088e-01, 7.07944356e-01,\n",
              "       8.42331530e-01, 9.27724643e-01, 8.36458029e-01, 7.16909688e-01,\n",
              "       2.90128239e-01, 7.76352051e-01, 3.73664114e-01, 8.75092318e-01,\n",
              "       7.75090569e-02, 2.52635832e-01, 2.40630942e-01, 3.64800941e-01,\n",
              "       7.11345479e-01, 4.45591396e-01, 9.09818048e-01, 7.99743273e-01,\n",
              "       7.16478574e-01, 3.60927098e-01, 7.37984619e-01, 1.03216154e-01,\n",
              "       2.14635055e-01, 9.42221363e-01, 7.77484673e-01, 5.97020132e-01,\n",
              "       6.55809826e-01, 2.97122782e-01, 1.83428709e-01, 2.91288420e-01,\n",
              "       6.81510049e-01, 5.97754652e-01, 3.79727851e-01, 3.38875836e-01,\n",
              "       7.60896395e-01, 3.88772303e-01, 7.29309585e-01, 7.24181385e-01,\n",
              "       2.06052073e-01, 1.63992427e-01, 4.68472657e-01, 2.04587105e-02,\n",
              "       3.36379268e-01, 5.95896108e-01, 8.70792511e-01, 3.43152871e-01,\n",
              "       1.12592968e-01, 9.74806738e-01, 8.49593828e-01, 4.05497920e-01,\n",
              "       4.52218760e-01, 9.13203119e-01, 2.29771786e-01, 9.47312896e-01,\n",
              "       4.98972105e-01, 9.55748902e-01, 2.38250010e-01, 1.70322556e-01,\n",
              "       4.78389663e-01, 6.87203951e-01, 2.02063570e-02, 5.44147923e-01])"
            ]
          },
          "metadata": {
            "tags": []
          },
          "execution_count": 78
        }
      ]
    },
    {
      "cell_type": "code",
      "metadata": {
        "id": "BT70xa0oBEcr",
        "colab_type": "code",
        "colab": {
          "base_uri": "https://localhost:8080/",
          "height": 68
        },
        "outputId": "1a31fd6e-c714-4183-fb14-97c88337996c"
      },
      "source": [
        "from statistics import median\n",
        "\n",
        "print(\"mean:\",arr9.mean())\n",
        "print(\"median:\",median(arr9))\n",
        "print(\"std dev:\",arr9.std())"
      ],
      "execution_count": 84,
      "outputs": [
        {
          "output_type": "stream",
          "text": [
            "mean: 0.5203741194019874\n",
            "median: 0.5116582313005773\n",
            "std dev: 0.26988823259185263\n"
          ],
          "name": "stdout"
        }
      ]
    },
    {
      "cell_type": "markdown",
      "metadata": {
        "id": "sCwJ7yVJBKNf",
        "colab_type": "text"
      },
      "source": [
        "8. Normalize a 5x5 random matrix"
      ]
    },
    {
      "cell_type": "code",
      "metadata": {
        "id": "ml59XPOOCE53",
        "colab_type": "code",
        "colab": {
          "base_uri": "https://localhost:8080/",
          "height": 102
        },
        "outputId": "c5554714-bd3e-4b16-9be3-6c7c23bc2818"
      },
      "source": [
        "arr9 = np.random.random((5,5))\n",
        "arr9"
      ],
      "execution_count": 88,
      "outputs": [
        {
          "output_type": "execute_result",
          "data": {
            "text/plain": [
              "array([[0.71903059, 0.63722391, 0.24937038, 0.31680087, 0.2491582 ],\n",
              "       [0.87555124, 0.53012821, 0.08835389, 0.8498927 , 0.20248337],\n",
              "       [0.7021651 , 0.67184912, 0.11731262, 0.60944631, 0.69084837],\n",
              "       [0.90415842, 0.45745798, 0.08450757, 0.74986284, 0.92600475],\n",
              "       [0.28530621, 0.8907958 , 0.78636918, 0.59806139, 0.5352944 ]])"
            ]
          },
          "metadata": {
            "tags": []
          },
          "execution_count": 88
        }
      ]
    },
    {
      "cell_type": "code",
      "metadata": {
        "id": "gxoYs178CIlc",
        "colab_type": "code",
        "colab": {
          "base_uri": "https://localhost:8080/",
          "height": 102
        },
        "outputId": "086dcadb-5878-4fd3-89b8-408f766fa668"
      },
      "source": [
        "from sklearn.preprocessing import normalize\n",
        "normalize(arr9)"
      ],
      "execution_count": 134,
      "outputs": [
        {
          "output_type": "execute_result",
          "data": {
            "text/plain": [
              "array([[0.67117465, 0.59481271, 0.23277324, 0.2957158 , 0.23257518],\n",
              "       [0.64922485, 0.39309225, 0.06551478, 0.63019893, 0.15014225],\n",
              "       [0.52236625, 0.49981309, 0.08727314, 0.45338936, 0.51394733],\n",
              "       [0.57721101, 0.29203929, 0.05394928, 0.47870935, 0.59115762],\n",
              "       [0.19514484, 0.60928993, 0.53786381, 0.40906433, 0.36613272]])"
            ]
          },
          "metadata": {
            "tags": []
          },
          "execution_count": 134
        }
      ]
    },
    {
      "cell_type": "markdown",
      "metadata": {
        "id": "6X-TO_KR1mjo",
        "colab_type": "text"
      },
      "source": [
        "\n",
        "9. Consider an array of dimension (4,4,3), how to mulitply it by an array with dimensions (4,4)?\n",
        "\n"
      ]
    },
    {
      "cell_type": "code",
      "metadata": {
        "id": "cZjtnytACqNg",
        "colab_type": "code",
        "colab": {}
      },
      "source": [
        "arr10 = np.random.random((4,4,3))\n",
        "arr11 = np.random.random((4,4))"
      ],
      "execution_count": 0,
      "outputs": []
    },
    {
      "cell_type": "code",
      "metadata": {
        "id": "DMsaoNoeCv52",
        "colab_type": "code",
        "colab": {
          "base_uri": "https://localhost:8080/",
          "height": 340
        },
        "outputId": "f5ed1aec-daba-4440-d59f-065b9f5c6fb6"
      },
      "source": [
        "arr10"
      ],
      "execution_count": 152,
      "outputs": [
        {
          "output_type": "execute_result",
          "data": {
            "text/plain": [
              "array([[[1.96751652e-01, 1.07524078e-02, 2.63172251e-01],\n",
              "        [6.42860616e-02, 1.49077469e-01, 9.76367200e-01],\n",
              "        [9.26592224e-01, 6.30466564e-01, 4.31444289e-01],\n",
              "        [4.32574320e-01, 2.49433541e-01, 5.76660110e-01]],\n",
              "\n",
              "       [[5.68977596e-01, 1.44753899e-01, 1.05819957e-01],\n",
              "        [6.92206157e-01, 6.41165581e-01, 8.09066519e-01],\n",
              "        [3.32084643e-01, 6.79170939e-01, 9.53358294e-01],\n",
              "        [8.20468400e-01, 8.03445985e-01, 3.96978610e-01]],\n",
              "\n",
              "       [[2.03516285e-01, 3.15583369e-01, 7.93772960e-01],\n",
              "        [8.73318163e-04, 2.58998869e-01, 4.16114888e-01],\n",
              "        [5.43647234e-01, 5.35827986e-01, 2.41893201e-02],\n",
              "        [9.05507250e-01, 7.62510649e-01, 7.39308088e-01]],\n",
              "\n",
              "       [[9.30603173e-01, 1.37430765e-01, 4.47175218e-01],\n",
              "        [1.64552238e-01, 2.55011533e-01, 7.84308619e-01],\n",
              "        [9.79311980e-01, 6.15241733e-01, 5.85516845e-01],\n",
              "        [5.86539658e-01, 2.48795626e-01, 8.89327650e-02]]])"
            ]
          },
          "metadata": {
            "tags": []
          },
          "execution_count": 152
        }
      ]
    },
    {
      "cell_type": "code",
      "metadata": {
        "id": "51niwUwUCwkf",
        "colab_type": "code",
        "colab": {
          "base_uri": "https://localhost:8080/",
          "height": 85
        },
        "outputId": "3e817498-ed6c-4f71-904d-121a5137cab8"
      },
      "source": [
        "arr11"
      ],
      "execution_count": 153,
      "outputs": [
        {
          "output_type": "execute_result",
          "data": {
            "text/plain": [
              "array([[0.05871539, 0.58915101, 0.45397266, 0.60246558],\n",
              "       [0.05564242, 0.15301207, 0.79739441, 0.15331888],\n",
              "       [0.65270584, 0.70119129, 0.97201816, 0.8344655 ],\n",
              "       [0.27210435, 0.18395406, 0.93986176, 0.877167  ]])"
            ]
          },
          "metadata": {
            "tags": []
          },
          "execution_count": 153
        }
      ]
    },
    {
      "cell_type": "code",
      "metadata": {
        "id": "eFnVyT6gDC3s",
        "colab_type": "code",
        "colab": {
          "base_uri": "https://localhost:8080/",
          "height": 340
        },
        "outputId": "5acb819b-fa74-47b3-d1c0-ed36a367b75e"
      },
      "source": [
        "arr10 * arr11[:,:,None]"
      ],
      "execution_count": 174,
      "outputs": [
        {
          "output_type": "execute_result",
          "data": {
            "text/plain": [
              "array([[[1.15523509e-02, 6.31331866e-04, 1.54522626e-02],\n",
              "        [3.78741979e-02, 8.78291411e-02, 5.75227719e-01],\n",
              "        [4.20647541e-01, 2.86214586e-01, 1.95863913e-01],\n",
              "        [2.60611140e-01, 1.50275124e-01, 3.47417870e-01]],\n",
              "\n",
              "       [[3.16592891e-02, 8.05445693e-03, 5.88807827e-03],\n",
              "        [1.05915900e-01, 9.81060759e-02, 1.23796947e-01],\n",
              "        [2.64802438e-01, 5.41567111e-01, 7.60202575e-01],\n",
              "        [1.25793292e-01, 1.23183435e-01, 6.08643140e-02]],\n",
              "\n",
              "       [[1.32836268e-01, 2.05983108e-01, 5.18100247e-01],\n",
              "        [6.12363089e-04, 1.81607751e-01, 2.91776135e-01],\n",
              "        [5.28434982e-01, 5.20834531e-01, 2.35124583e-02],\n",
              "        [7.55614556e-01, 6.36288827e-01, 6.16927090e-01]],\n",
              "\n",
              "       [[2.53221172e-01, 3.73955090e-02, 1.21678322e-01],\n",
              "        [3.02700529e-02, 4.69104079e-02, 1.44276758e-01],\n",
              "        [9.20417877e-01, 5.78242175e-01, 5.50304890e-01],\n",
              "        [5.14493233e-01, 2.18235313e-01, 7.80088867e-02]]])"
            ]
          },
          "metadata": {
            "tags": []
          },
          "execution_count": 174
        }
      ]
    },
    {
      "cell_type": "code",
      "metadata": {
        "id": "6TrAf6-LDbPX",
        "colab_type": "code",
        "colab": {}
      },
      "source": [
        ""
      ],
      "execution_count": 0,
      "outputs": []
    },
    {
      "cell_type": "code",
      "metadata": {
        "id": "Lu3DZkDpOqJz",
        "colab_type": "code",
        "colab": {}
      },
      "source": [
        ""
      ],
      "execution_count": 0,
      "outputs": []
    }
  ]
}