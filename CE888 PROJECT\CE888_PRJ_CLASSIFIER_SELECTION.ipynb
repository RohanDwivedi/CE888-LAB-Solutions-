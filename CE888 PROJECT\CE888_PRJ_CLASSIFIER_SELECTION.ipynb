{
  "nbformat": 4,
  "nbformat_minor": 0,
  "metadata": {
    "colab": {
      "name": "CE888 PRJ CLASSIFIER SELECTION.ipynb",
      "provenance": [],
      "collapsed_sections": [],
      "machine_shape": "hm",
      "authorship_tag": "ABX9TyOL6Hn1GB4TJx+rT2BO17TZ",
      "include_colab_link": true
    },
    "kernelspec": {
      "name": "python3",
      "display_name": "Python 3"
    }
  },
  "cells": [
    {
      "cell_type": "markdown",
      "metadata": {
        "id": "view-in-github",
        "colab_type": "text"
      },
      "source": [
        "<a href=\"https://colab.research.google.com/github/rohan260696/CE888-LAB-Solutions-/blob/master/CE888%20PROJECT%5CCE888_PRJ_CLASSIFIER_SELECTION.ipynb\" target=\"_parent\"><img src=\"https://colab.research.google.com/assets/colab-badge.svg\" alt=\"Open In Colab\"/></a>"
      ]
    },
    {
      "cell_type": "markdown",
      "metadata": {
        "id": "unGo3zjuBTJf",
        "colab_type": "text"
      },
      "source": [
        "#**CLASSIFIER SELECTION**"
      ]
    },
    {
      "cell_type": "markdown",
      "metadata": {
        "id": "CrgW3R8rrvR_",
        "colab_type": "text"
      },
      "source": [
        "# Data Loading and Processing"
      ]
    },
    {
      "cell_type": "code",
      "metadata": {
        "id": "y3619L3E8_hx",
        "colab_type": "code",
        "colab": {}
      },
      "source": [
        "import pandas as pd\n",
        "import numpy as np\n",
        "import matplotlib.pyplot as plt\n",
        "from sklearn.model_selection import train_test_split\n",
        "from sklearn.model_selection import RandomizedSearchCV,GridSearchCV,StratifiedKFold\n",
        "from sklearn.metrics import accuracy_score\n",
        "from sklearn.metrics import plot_confusion_matrix,classification_report\n",
        "from sklearn.model_selection import cross_val_score\n",
        "from sklearn.metrics import make_scorer\n",
        "from sklearn.utils import shuffle"
      ],
      "execution_count": 0,
      "outputs": []
    },
    {
      "cell_type": "code",
      "metadata": {
        "id": "1SNP-2RUmPeJ",
        "colab_type": "code",
        "outputId": "3ccaba3a-1ce0-40a6-a723-2cd4c16e65da",
        "colab": {
          "base_uri": "https://localhost:8080/",
          "height": 34
        }
      },
      "source": [
        "import sklearn\n",
        "sklearn.__version__"
      ],
      "execution_count": 0,
      "outputs": [
        {
          "output_type": "execute_result",
          "data": {
            "text/plain": [
              "'0.22.2.post1'"
            ]
          },
          "metadata": {
            "tags": []
          },
          "execution_count": 29
        }
      ]
    },
    {
      "cell_type": "code",
      "metadata": {
        "id": "912gX8Ak9YaB",
        "colab_type": "code",
        "colab": {}
      },
      "source": [
        "df = pd.read_csv('https://raw.githubusercontent.com/rohan260696/CE888-LAB-Solutions-/master/CE888%20PROJECT/CE888PROJECT_EXTENDED_DATASET.csv')"
      ],
      "execution_count": 0,
      "outputs": []
    },
    {
      "cell_type": "code",
      "metadata": {
        "id": "O75_nJEq9pJs",
        "colab_type": "code",
        "outputId": "f49b42d7-3c19-47d6-e534-bd7fe39d7110",
        "colab": {
          "base_uri": "https://localhost:8080/",
          "height": 204
        }
      },
      "source": [
        "df.head(5)"
      ],
      "execution_count": 0,
      "outputs": [
        {
          "output_type": "execute_result",
          "data": {
            "text/html": [
              "<div>\n",
              "<style scoped>\n",
              "    .dataframe tbody tr th:only-of-type {\n",
              "        vertical-align: middle;\n",
              "    }\n",
              "\n",
              "    .dataframe tbody tr th {\n",
              "        vertical-align: top;\n",
              "    }\n",
              "\n",
              "    .dataframe thead th {\n",
              "        text-align: right;\n",
              "    }\n",
              "</style>\n",
              "<table border=\"1\" class=\"dataframe\">\n",
              "  <thead>\n",
              "    <tr style=\"text-align: right;\">\n",
              "      <th></th>\n",
              "      <th>State0</th>\n",
              "      <th>State1</th>\n",
              "      <th>State2</th>\n",
              "      <th>State3</th>\n",
              "      <th>State4</th>\n",
              "      <th>State5</th>\n",
              "      <th>State6</th>\n",
              "      <th>State7</th>\n",
              "      <th>State8</th>\n",
              "      <th>Player</th>\n",
              "      <th>Move</th>\n",
              "    </tr>\n",
              "  </thead>\n",
              "  <tbody>\n",
              "    <tr>\n",
              "      <th>0</th>\n",
              "      <td>0</td>\n",
              "      <td>0</td>\n",
              "      <td>0</td>\n",
              "      <td>0</td>\n",
              "      <td>0</td>\n",
              "      <td>0</td>\n",
              "      <td>0</td>\n",
              "      <td>0</td>\n",
              "      <td>0</td>\n",
              "      <td>1</td>\n",
              "      <td>0</td>\n",
              "    </tr>\n",
              "    <tr>\n",
              "      <th>1</th>\n",
              "      <td>1</td>\n",
              "      <td>0</td>\n",
              "      <td>0</td>\n",
              "      <td>0</td>\n",
              "      <td>0</td>\n",
              "      <td>0</td>\n",
              "      <td>0</td>\n",
              "      <td>0</td>\n",
              "      <td>0</td>\n",
              "      <td>2</td>\n",
              "      <td>4</td>\n",
              "    </tr>\n",
              "    <tr>\n",
              "      <th>2</th>\n",
              "      <td>1</td>\n",
              "      <td>0</td>\n",
              "      <td>0</td>\n",
              "      <td>0</td>\n",
              "      <td>2</td>\n",
              "      <td>0</td>\n",
              "      <td>0</td>\n",
              "      <td>0</td>\n",
              "      <td>0</td>\n",
              "      <td>1</td>\n",
              "      <td>2</td>\n",
              "    </tr>\n",
              "    <tr>\n",
              "      <th>3</th>\n",
              "      <td>1</td>\n",
              "      <td>0</td>\n",
              "      <td>1</td>\n",
              "      <td>0</td>\n",
              "      <td>2</td>\n",
              "      <td>0</td>\n",
              "      <td>0</td>\n",
              "      <td>0</td>\n",
              "      <td>0</td>\n",
              "      <td>2</td>\n",
              "      <td>1</td>\n",
              "    </tr>\n",
              "    <tr>\n",
              "      <th>4</th>\n",
              "      <td>1</td>\n",
              "      <td>2</td>\n",
              "      <td>1</td>\n",
              "      <td>0</td>\n",
              "      <td>2</td>\n",
              "      <td>0</td>\n",
              "      <td>0</td>\n",
              "      <td>0</td>\n",
              "      <td>0</td>\n",
              "      <td>1</td>\n",
              "      <td>7</td>\n",
              "    </tr>\n",
              "  </tbody>\n",
              "</table>\n",
              "</div>"
            ],
            "text/plain": [
              "   State0  State1  State2  State3  State4  ...  State6  State7  State8  Player  Move\n",
              "0       0       0       0       0       0  ...       0       0       0       1     0\n",
              "1       1       0       0       0       0  ...       0       0       0       2     4\n",
              "2       1       0       0       0       2  ...       0       0       0       1     2\n",
              "3       1       0       1       0       2  ...       0       0       0       2     1\n",
              "4       1       2       1       0       2  ...       0       0       0       1     7\n",
              "\n",
              "[5 rows x 11 columns]"
            ]
          },
          "metadata": {
            "tags": []
          },
          "execution_count": 31
        }
      ]
    },
    {
      "cell_type": "code",
      "metadata": {
        "id": "zMvREZws9r6_",
        "colab_type": "code",
        "outputId": "25a7dde4-3a44-4834-c1a1-514a6f0d2885",
        "colab": {
          "base_uri": "https://localhost:8080/",
          "height": 323
        }
      },
      "source": [
        "df.info()"
      ],
      "execution_count": 0,
      "outputs": [
        {
          "output_type": "stream",
          "text": [
            "<class 'pandas.core.frame.DataFrame'>\n",
            "RangeIndex: 17436 entries, 0 to 17435\n",
            "Data columns (total 11 columns):\n",
            " #   Column  Non-Null Count  Dtype\n",
            "---  ------  --------------  -----\n",
            " 0   State0  17436 non-null  int64\n",
            " 1   State1  17436 non-null  int64\n",
            " 2   State2  17436 non-null  int64\n",
            " 3   State3  17436 non-null  int64\n",
            " 4   State4  17436 non-null  int64\n",
            " 5   State5  17436 non-null  int64\n",
            " 6   State6  17436 non-null  int64\n",
            " 7   State7  17436 non-null  int64\n",
            " 8   State8  17436 non-null  int64\n",
            " 9   Player  17436 non-null  int64\n",
            " 10  Move    17436 non-null  int64\n",
            "dtypes: int64(11)\n",
            "memory usage: 1.5 MB\n"
          ],
          "name": "stdout"
        }
      ]
    },
    {
      "cell_type": "markdown",
      "metadata": {
        "id": "3P5j5537PZp-",
        "colab_type": "text"
      },
      "source": [
        "## Checking Class Balance"
      ]
    },
    {
      "cell_type": "code",
      "metadata": {
        "id": "teNuoWQYPgb3",
        "colab_type": "code",
        "outputId": "5a0b889e-bf36-494f-b251-b5a096ca640e",
        "colab": {
          "base_uri": "https://localhost:8080/",
          "height": 187
        }
      },
      "source": [
        "df['Move'].value_counts()"
      ],
      "execution_count": 0,
      "outputs": [
        {
          "output_type": "execute_result",
          "data": {
            "text/plain": [
              "4    2000\n",
              "0    1989\n",
              "1    1936\n",
              "6    1929\n",
              "3    1928\n",
              "7    1925\n",
              "5    1915\n",
              "8    1909\n",
              "2    1905\n",
              "Name: Move, dtype: int64"
            ]
          },
          "metadata": {
            "tags": []
          },
          "execution_count": 33
        }
      ]
    },
    {
      "cell_type": "markdown",
      "metadata": {
        "id": "cu2EMeVMSZYu",
        "colab_type": "text"
      },
      "source": [
        "# Splitting the data into training and testing set 80-20 %"
      ]
    },
    {
      "cell_type": "code",
      "metadata": {
        "id": "Kq4yaaiNICeK",
        "colab_type": "code",
        "colab": {}
      },
      "source": [
        "Y,X = df.Move, df.drop(columns=['Move'])\n",
        "Xtrain,Xtest,Ytrain,Ytest = train_test_split(X,Y,test_size = 0.20,random_state = 42)\n",
        "Xtrain,Ytrain = shuffle(Xtrain,Ytrain)\n",
        "#smote = SMOTE(random_state = 42)\n",
        "#Xtrain,Ytrain = smote.fit_sample(Xtrain, Ytrain)"
      ],
      "execution_count": 0,
      "outputs": []
    },
    {
      "cell_type": "markdown",
      "metadata": {
        "id": "ysjCsO_XqRoQ",
        "colab_type": "text"
      },
      "source": [
        "# Quick evaluation of suitable Classifier models"
      ]
    },
    {
      "cell_type": "code",
      "metadata": {
        "id": "c8nwRFEyoImT",
        "colab_type": "code",
        "colab": {}
      },
      "source": [
        "from sklearn.neighbors import KNeighborsClassifier\n",
        "from sklearn.svm import SVC\n",
        "from sklearn import tree\n",
        "from sklearn.discriminant_analysis import LinearDiscriminantAnalysis\n",
        "from sklearn.linear_model import LogisticRegression\n",
        "from sklearn.linear_model import SGDClassifier\n",
        "from sklearn.naive_bayes import BernoulliNB\n",
        "from sklearn.multiclass import OneVsOneClassifier"
      ],
      "execution_count": 0,
      "outputs": []
    },
    {
      "cell_type": "code",
      "metadata": {
        "id": "sps1AfhLrQ3K",
        "colab_type": "code",
        "colab": {}
      },
      "source": [
        "def eval_model():\n",
        "\n",
        "  '''Evaluate different classifier models (Quick) and compare them using 10 fold \n",
        "   cross validation for selection of the best model '''\n",
        "  \n",
        "  clf_KNN  = KNeighborsClassifier()\n",
        "  clf_SVC  = SVC(probability  = True, random_state = 42)\n",
        "  clf_DT   = tree.DecisionTreeClassifier(random_state = 42)\n",
        "  clf_LDA  = LinearDiscriminantAnalysis()\n",
        "  clf_LR   = LogisticRegression(max_iter = 1000, random_state = 42)\n",
        "  clf_BNB  = BernoulliNB()\n",
        "  clf_SGDC = SGDClassifier(loss = 'log',random_state = 42)\n",
        "  \n",
        "  classifiers = [clf_KNN, clf_SVC, clf_DT, clf_LDA, clf_LR, clf_BNB, clf_SGDC]\n",
        "  \n",
        "  clf_mean = []\n",
        "  clf_std = []\n",
        "  \n",
        "  for clf in classifiers:\n",
        "    scores = cross_val_score(clf, Xtrain, Ytrain,scoring = \"f1_weighted\", cv=10, n_jobs =-1)\n",
        "    score_mean = scores.mean()*100\n",
        "    clf_mean.append(score_mean)\n",
        "    score_std = scores.std()*100\n",
        "    clf_std.append(score_std)\n",
        "  return classifiers, clf_mean, clf_std\n",
        "\n",
        "classifiers, clf_mean, clf_std = eval_model()"
      ],
      "execution_count": 0,
      "outputs": []
    },
    {
      "cell_type": "code",
      "metadata": {
        "id": "Jl3YaXLIr7jn",
        "colab_type": "code",
        "outputId": "021b7201-c949-473a-d127-5d1a03ee4e7f",
        "colab": {
          "base_uri": "https://localhost:8080/",
          "height": 314
        }
      },
      "source": [
        "model = ['KNN', 'SVM', 'D.Tree', 'LDA', 'LR', 'B N.Bayes', 'SGDC']\n",
        "x_pos = [1,2,3,4,5,6,7]\n",
        "y = clf_mean\n",
        "e = clf_std\n",
        "fig, ax = plt.subplots()\n",
        "ax.bar(x_pos, y, yerr=e, align='center', alpha=1, ecolor='black', capsize=7)\n",
        "ax.set_ylabel('Model Accuracy ')\n",
        "ax.set_xticks(x_pos)\n",
        "ax.set_xticklabels(model)\n",
        "ax.set_title('Comparison of Model Accuracy')\n",
        "plt.yticks(np.arange(0, 80, 5))\n",
        "print(y)\n",
        "# Save the figure and show\n",
        "plt.tight_layout()\n",
        "plt.savefig('comparison of Model Accuracy.png')\n",
        "plt.show()"
      ],
      "execution_count": 0,
      "outputs": [
        {
          "output_type": "stream",
          "text": [
            "[73.1817808692916, 75.03814553621703, 75.58649389098345, 57.247326219080264, 63.38591315495658, 47.33953699685937, 59.524085645321364]\n"
          ],
          "name": "stdout"
        },
        {
          "output_type": "display_data",
          "data": {
            "image/png": "[encoded data removed]",
            "text/plain": [
              "<Figure size 432x288 with 1 Axes>"
            ]
          },
          "metadata": {
            "tags": [],
            "needs_background": "light"
          }
        }
      ]
    },
    {
      "cell_type": "code",
      "metadata": {
        "id": "VcnxW4uQa93Z",
        "colab_type": "code",
        "outputId": "076a11c7-7dbd-4cb0-e5f8-fe6ec94f3c09",
        "colab": {
          "base_uri": "https://localhost:8080/",
          "height": 1000
        }
      },
      "source": [
        "i = 0\n",
        "for clf in classifiers:\n",
        "  clf.fit(Xtrain,Ytrain)\n",
        "  fig = plot_confusion_matrix(clf,Xtrain,Ytrain,normalize='pred',cmap='YlOrRd',include_values=False)\n",
        "  name = model[i]\n",
        "  filename = 'ConfusionMatrix' + model[i] + '.png'\n",
        "  plt.title(name)\n",
        "  plt.savefig(filename)\n",
        "  i=i+1"
      ],
      "execution_count": 0,
      "outputs": [
        {
          "output_type": "display_data",
          "data": {
            "image/png": "[encoded data removed]",
            "text/plain": [
              "<Figure size 432x288 with 2 Axes>"
            ]
          },
          "metadata": {
            "tags": [],
            "needs_background": "light"
          }
        },
        {
          "output_type": "display_data",
          "data": {
            "image/png": "[encoded data removed]",
            "text/plain": [
              "<Figure size 432x288 with 2 Axes>"
            ]
          },
          "metadata": {
            "tags": [],
            "needs_background": "light"
          }
        },
        {
          "output_type": "display_data",
          "data": {
            "image/png": "[encoded data removed]",
            "text/plain": [
              "<Figure size 432x288 with 2 Axes>"
            ]
          },
          "metadata": {
            "tags": [],
            "needs_background": "light"
          }
        },
        {
          "output_type": "display_data",
          "data": {
            "image/png": "[encoded data removed]",
            "text/plain": [
              "<Figure size 432x288 with 2 Axes>"
            ]
          },
          "metadata": {
            "tags": [],
            "needs_background": "light"
          }
        },
        {
          "output_type": "display_data",
          "data": {
            "image/png": "[encoded data removed]",
            "text/plain": [
              "<Figure size 432x288 with 2 Axes>"
            ]
          },
          "metadata": {
            "tags": [],
            "needs_background": "light"
          }
        },
        {
          "output_type": "display_data",
          "data": {
            "image/png": "[encoded data removed]",
            "text/plain": [
              "<Figure size 432x288 with 2 Axes>"
            ]
          },
          "metadata": {
            "tags": [],
            "needs_background": "light"
          }
        },
        {
          "output_type": "display_data",
          "data": {
            "image/png": "[encoded data removed]",
            "text/plain": [
              "<Figure size 432x288 with 2 Axes>"
            ]
          },
          "metadata": {
            "tags": [],
            "needs_background": "light"
          }
        }
      ]
    },
    {
      "cell_type": "markdown",
      "metadata": {
        "id": "o4Q7nb4a8Tmv",
        "colab_type": "text"
      },
      "source": [
        ""
      ]
    },
    {
      "cell_type": "code",
      "metadata": {
        "id": "TnYtMHTz5Ud3",
        "colab_type": "code",
        "outputId": "cdf9f039-ba7b-423c-f59b-7f68e666d863",
        "colab": {
          "base_uri": "https://localhost:8080/",
          "height": 374
        }
      },
      "source": [
        "from scipy.stats import pearsonr\n",
        "\n",
        "clr_mat = np.zeros((7,7))\n",
        "\n",
        "for i in range(0,7,1):\n",
        "  a = classifiers[i].predict(Xtest)\n",
        "  for j in range(i+1,7,1):\n",
        "    b = classifiers[j].predict(Xtest)\n",
        "    corelation,pval = pearsonr(a,b)\n",
        "    clr_mat[i][j] = corelation\n",
        "    print(\"corelation for\",model[i],\"and\",model[j],'is','{:.2f}'.format(corelation))"
      ],
      "execution_count": 0,
      "outputs": [
        {
          "output_type": "stream",
          "text": [
            "corelation for KNN and SVM is 0.89\n",
            "corelation for KNN and D.Tree is 0.91\n",
            "corelation for KNN and LDA is 0.64\n",
            "corelation for KNN and LR is 0.70\n",
            "corelation for KNN and B N.Bayes is 0.60\n",
            "corelation for KNN and SGDC is 0.67\n",
            "corelation for SVM and D.Tree is 0.96\n",
            "corelation for SVM and LDA is 0.75\n",
            "corelation for SVM and LR is 0.81\n",
            "corelation for SVM and B N.Bayes is 0.69\n",
            "corelation for SVM and SGDC is 0.79\n",
            "corelation for D.Tree and LDA is 0.72\n",
            "corelation for D.Tree and LR is 0.78\n",
            "corelation for D.Tree and B N.Bayes is 0.68\n",
            "corelation for D.Tree and SGDC is 0.76\n",
            "corelation for LDA and LR is 0.87\n",
            "corelation for LDA and B N.Bayes is 0.74\n",
            "corelation for LDA and SGDC is 0.84\n",
            "corelation for LR and B N.Bayes is 0.66\n",
            "corelation for LR and SGDC is 0.92\n",
            "corelation for B N.Bayes and SGDC is 0.68\n"
          ],
          "name": "stdout"
        }
      ]
    },
    {
      "cell_type": "code",
      "metadata": {
        "id": "gtn1L5167eOt",
        "colab_type": "code",
        "outputId": "d4df67c9-5131-49d6-f6d2-ebae1f495271",
        "colab": {
          "base_uri": "https://localhost:8080/",
          "height": 309
        }
      },
      "source": [
        "print('Corelation Matrix')\n",
        "plt.matshow(clr_mat,cmap = 'Greys') "
      ],
      "execution_count": 0,
      "outputs": [
        {
          "output_type": "stream",
          "text": [
            "Corelation Matrix\n"
          ],
          "name": "stdout"
        },
        {
          "output_type": "execute_result",
          "data": {
            "text/plain": [
              "<matplotlib.image.AxesImage at 0x7f6a6d849c18>"
            ]
          },
          "metadata": {
            "tags": []
          },
          "execution_count": 40
        },
        {
          "output_type": "display_data",
          "data": {
            "image/png": "[encoded data removed]",
            "text/plain": [
              "<Figure size 288x288 with 1 Axes>"
            ]
          },
          "metadata": {
            "tags": [],
            "needs_background": "light"
          }
        }
      ]
    },
    {
      "cell_type": "code",
      "metadata": {
        "id": "t7IiKtroALqv",
        "colab_type": "code",
        "colab": {}
      },
      "source": [
        "from sklearn.ensemble import VotingClassifier\n",
        "model1 = ('DT',classifiers[0])\n",
        "model2 = ('LR',classifiers[4])\n",
        "model3 = ('SGDC',classifiers[6])\n",
        "estimators = [model1, model2, model3]"
      ],
      "execution_count": 0,
      "outputs": []
    },
    {
      "cell_type": "code",
      "metadata": {
        "id": "YGIk9vJWIyDb",
        "colab_type": "code",
        "outputId": "412ed37b-fdc3-4252-ff85-b1800b8898e7",
        "colab": {
          "base_uri": "https://localhost:8080/",
          "height": 589
        }
      },
      "source": [
        "best_clf = (VotingClassifier(estimators = estimators, voting='soft',weights = [2,1,0.5],n_jobs = -1)).fit(Xtrain,Ytrain)\n",
        "plot_confusion_matrix(best_clf,Xtest,Ytest,normalize='pred',cmap = 'YlOrRd', include_values=False)\n",
        "print(classification_report(Ytest,best_clf.predict(Xtest))) \n",
        "print(\"\\n\")"
      ],
      "execution_count": 0,
      "outputs": [
        {
          "output_type": "stream",
          "text": [
            "              precision    recall  f1-score   support\n",
            "\n",
            "           0       0.79      0.60      0.68       405\n",
            "           1       0.85      0.71      0.78       382\n",
            "           2       0.65      0.74      0.69       405\n",
            "           3       0.80      0.77      0.78       391\n",
            "           4       0.53      0.94      0.68       423\n",
            "           5       0.89      0.75      0.81       368\n",
            "           6       0.87      0.62      0.73       407\n",
            "           7       0.81      0.87      0.84       353\n",
            "           8       1.00      0.79      0.88       354\n",
            "\n",
            "    accuracy                           0.75      3488\n",
            "   macro avg       0.80      0.76      0.76      3488\n",
            "weighted avg       0.79      0.75      0.76      3488\n",
            "\n",
            "\n",
            "\n"
          ],
          "name": "stdout"
        },
        {
          "output_type": "display_data",
          "data": {
            "image/png": "[encoded data removed]",
            "text/plain": [
              "<Figure size 432x288 with 2 Axes>"
            ]
          },
          "metadata": {
            "tags": [],
            "needs_background": "light"
          }
        }
      ]
    },
    {
      "cell_type": "markdown",
      "metadata": {
        "id": "FOXfvB7BcBQl",
        "colab_type": "text"
      },
      "source": [
        "voting ensemble approach was tried, but it gave no advantage over using Decision tree which has the best performance ,therefore ensembled classifier was dropped. Most classifiers are higly corelated to each other, that means they are making the same predictions, so combining them makes no improvement in performance, the classifiers that are not very corelated to each other, it was observed that one of them has very good performance i.e most of its predictions are correct, and the other has very poor performance i.e most of its predcitions are wrong, because of these they are highly not corelated, therefore combining them doesnt improve the performance of the good classifier any further."
      ]
    },
    {
      "cell_type": "markdown",
      "metadata": {
        "id": "srK3qs3-TATd",
        "colab_type": "text"
      },
      "source": [
        "# Evaluating performance of Chosen Classifier on the test set"
      ]
    },
    {
      "cell_type": "code",
      "metadata": {
        "id": "rFbvXiNEbdf7",
        "colab_type": "code",
        "outputId": "9e4a4161-f79d-4f01-ec0a-c4087401daa5",
        "colab": {
          "base_uri": "https://localhost:8080/",
          "height": 296
        }
      },
      "source": [
        "clf_DT = classifiers[2]\n",
        "plot_confusion_matrix(clf_DT,Xtest,Ytest,normalize='pred',include_values=False,cmap='YlOrRd')"
      ],
      "execution_count": 0,
      "outputs": [
        {
          "output_type": "execute_result",
          "data": {
            "text/plain": [
              "<sklearn.metrics._plot.confusion_matrix.ConfusionMatrixDisplay at 0x7f6a6d97fcf8>"
            ]
          },
          "metadata": {
            "tags": []
          },
          "execution_count": 43
        },
        {
          "output_type": "display_data",
          "data": {
            "image/png": "[encoded data removed]",
            "text/plain": [
              "<Figure size 432x288 with 2 Axes>"
            ]
          },
          "metadata": {
            "tags": [],
            "needs_background": "light"
          }
        }
      ]
    },
    {
      "cell_type": "code",
      "metadata": {
        "id": "1weIYFXbj_NY",
        "colab_type": "code",
        "outputId": "fce48e15-7927-41b5-84f5-34dccacdb1dc",
        "colab": {
          "base_uri": "https://localhost:8080/",
          "height": 289
        }
      },
      "source": [
        "print(classification_report(Ytest, clf_DT.predict(Xtest))) "
      ],
      "execution_count": 0,
      "outputs": [
        {
          "output_type": "stream",
          "text": [
            "              precision    recall  f1-score   support\n",
            "\n",
            "           0       0.53      0.97      0.68       405\n",
            "           1       0.83      0.73      0.77       382\n",
            "           2       0.65      0.77      0.70       405\n",
            "           3       0.79      0.78      0.79       391\n",
            "           4       0.84      0.63      0.72       423\n",
            "           5       0.97      0.70      0.81       368\n",
            "           6       0.84      0.62      0.71       407\n",
            "           7       0.85      0.79      0.82       353\n",
            "           8       0.93      0.86      0.89       354\n",
            "\n",
            "    accuracy                           0.76      3488\n",
            "   macro avg       0.80      0.76      0.77      3488\n",
            "weighted avg       0.80      0.76      0.76      3488\n",
            "\n"
          ],
          "name": "stdout"
        }
      ]
    },
    {
      "cell_type": "code",
      "metadata": {
        "id": "uyvYdKifxZJM",
        "colab_type": "code",
        "outputId": "4c632266-71e1-475b-8854-b86e9c1d523e",
        "colab": {
          "base_uri": "https://localhost:8080/",
          "height": 296
        }
      },
      "source": [
        "clf_KNN = classifiers[0]\n",
        "plot_confusion_matrix(clf_DT,Xtest,Ytest,normalize='pred',include_values=False,cmap='YlOrRd')"
      ],
      "execution_count": 0,
      "outputs": [
        {
          "output_type": "execute_result",
          "data": {
            "text/plain": [
              "<sklearn.metrics._plot.confusion_matrix.ConfusionMatrixDisplay at 0x7f6a6d97e438>"
            ]
          },
          "metadata": {
            "tags": []
          },
          "execution_count": 45
        },
        {
          "output_type": "display_data",
          "data": {
            "image/png": "[encoded data removed]",
            "text/plain": [
              "<Figure size 432x288 with 2 Axes>"
            ]
          },
          "metadata": {
            "tags": [],
            "needs_background": "light"
          }
        }
      ]
    },
    {
      "cell_type": "code",
      "metadata": {
        "id": "sqNe-lyYybg8",
        "colab_type": "code",
        "outputId": "7e75928d-b5c3-41c3-e207-9df2965858e7",
        "colab": {
          "base_uri": "https://localhost:8080/",
          "height": 289
        }
      },
      "source": [
        "print(classification_report(Ytest, clf_KNN.predict(Xtest))) "
      ],
      "execution_count": 0,
      "outputs": [
        {
          "output_type": "stream",
          "text": [
            "              precision    recall  f1-score   support\n",
            "\n",
            "           0       0.78      0.61      0.68       405\n",
            "           1       0.42      0.78      0.54       382\n",
            "           2       0.62      0.76      0.68       405\n",
            "           3       0.77      0.77      0.77       391\n",
            "           4       0.80      0.64      0.71       423\n",
            "           5       0.90      0.74      0.81       368\n",
            "           6       0.90      0.62      0.73       407\n",
            "           7       0.82      0.86      0.84       353\n",
            "           8       1.00      0.79      0.88       354\n",
            "\n",
            "    accuracy                           0.73      3488\n",
            "   macro avg       0.78      0.73      0.74      3488\n",
            "weighted avg       0.78      0.73      0.74      3488\n",
            "\n"
          ],
          "name": "stdout"
        }
      ]
    },
    {
      "cell_type": "code",
      "metadata": {
        "id": "DLOTl1lPyeTm",
        "colab_type": "code",
        "outputId": "b3d83265-2d99-471c-c535-fc6eae2a86b9",
        "colab": {
          "base_uri": "https://localhost:8080/",
          "height": 408
        }
      },
      "source": [
        "k = list(range(1,31,1))\n",
        "clf = GridSearchCV(clf_KNN,cv = 10,n_jobs = -1,param_grid = {'n_neighbors':k},verbose = 10)\n",
        "best_clf_KNN = clf.fit(Xtrain,Ytrain)\n"
      ],
      "execution_count": 0,
      "outputs": [
        {
          "output_type": "stream",
          "text": [
            "Fitting 10 folds for each of 30 candidates, totalling 300 fits\n"
          ],
          "name": "stdout"
        },
        {
          "output_type": "stream",
          "text": [
            "[Parallel(n_jobs=-1)]: Using backend LokyBackend with 4 concurrent workers.\n",
            "[Parallel(n_jobs=-1)]: Done   5 tasks      | elapsed:    0.5s\n",
            "[Parallel(n_jobs=-1)]: Done  10 tasks      | elapsed:    0.8s\n",
            "[Parallel(n_jobs=-1)]: Done  17 tasks      | elapsed:    1.3s\n",
            "[Parallel(n_jobs=-1)]: Done  24 tasks      | elapsed:    1.6s\n",
            "[Parallel(n_jobs=-1)]: Done  33 tasks      | elapsed:    2.3s\n",
            "[Parallel(n_jobs=-1)]: Done  42 tasks      | elapsed:    2.9s\n",
            "[Parallel(n_jobs=-1)]: Done  53 tasks      | elapsed:    3.6s\n",
            "[Parallel(n_jobs=-1)]: Done  64 tasks      | elapsed:    4.3s\n",
            "[Parallel(n_jobs=-1)]: Done  77 tasks      | elapsed:    5.2s\n",
            "[Parallel(n_jobs=-1)]: Done  90 tasks      | elapsed:    6.1s\n",
            "[Parallel(n_jobs=-1)]: Done 105 tasks      | elapsed:    7.2s\n",
            "[Parallel(n_jobs=-1)]: Done 120 tasks      | elapsed:    8.3s\n",
            "[Parallel(n_jobs=-1)]: Done 137 tasks      | elapsed:    9.5s\n",
            "[Parallel(n_jobs=-1)]: Done 154 tasks      | elapsed:   10.7s\n",
            "[Parallel(n_jobs=-1)]: Done 173 tasks      | elapsed:   12.0s\n",
            "[Parallel(n_jobs=-1)]: Done 192 tasks      | elapsed:   13.3s\n",
            "[Parallel(n_jobs=-1)]: Done 213 tasks      | elapsed:   14.9s\n",
            "[Parallel(n_jobs=-1)]: Done 234 tasks      | elapsed:   16.4s\n",
            "[Parallel(n_jobs=-1)]: Done 257 tasks      | elapsed:   18.1s\n",
            "[Parallel(n_jobs=-1)]: Done 280 tasks      | elapsed:   19.7s\n",
            "[Parallel(n_jobs=-1)]: Done 300 out of 300 | elapsed:   21.2s finished\n"
          ],
          "name": "stderr"
        }
      ]
    },
    {
      "cell_type": "code",
      "metadata": {
        "id": "8AU6U4B7zG4x",
        "colab_type": "code",
        "outputId": "d1eabd4d-ab2e-48e2-91a2-7932adbba0b1",
        "colab": {
          "base_uri": "https://localhost:8080/",
          "height": 68
        }
      },
      "source": [
        "best_clf_KNN.best_estimator_"
      ],
      "execution_count": 0,
      "outputs": [
        {
          "output_type": "execute_result",
          "data": {
            "text/plain": [
              "KNeighborsClassifier(algorithm='auto', leaf_size=30, metric='minkowski',\n",
              "                     metric_params=None, n_jobs=None, n_neighbors=16, p=2,\n",
              "                     weights='uniform')"
            ]
          },
          "metadata": {
            "tags": []
          },
          "execution_count": 48
        }
      ]
    },
    {
      "cell_type": "code",
      "metadata": {
        "id": "eCwH4WzEz_nT",
        "colab_type": "code",
        "outputId": "c4e09d02-4874-4953-d9ae-65a9cbf1bf63",
        "colab": {
          "base_uri": "https://localhost:8080/",
          "height": 34
        }
      },
      "source": [
        "best_clf_KNN.best_score_"
      ],
      "execution_count": 0,
      "outputs": [
        {
          "output_type": "execute_result",
          "data": {
            "text/plain": [
              "0.7364480646704"
            ]
          },
          "metadata": {
            "tags": []
          },
          "execution_count": 49
        }
      ]
    },
    {
      "cell_type": "code",
      "metadata": {
        "id": "WbnUep22z1Sx",
        "colab_type": "code",
        "outputId": "5d153a5c-a4e1-48d1-d9b3-b926c92810f1",
        "colab": {
          "base_uri": "https://localhost:8080/",
          "height": 296
        }
      },
      "source": [
        "clf_KNN = classifiers[0]\n",
        "plot_confusion_matrix(best_clf_KNN,Xtest,Ytest,normalize='pred',include_values=False,cmap='YlOrRd')"
      ],
      "execution_count": 0,
      "outputs": [
        {
          "output_type": "execute_result",
          "data": {
            "text/plain": [
              "<sklearn.metrics._plot.confusion_matrix.ConfusionMatrixDisplay at 0x7f6a6d801588>"
            ]
          },
          "metadata": {
            "tags": []
          },
          "execution_count": 50
        },
        {
          "output_type": "display_data",
          "data": {
            "image/png": "[encoded data removed]",
            "text/plain": [
              "<Figure size 432x288 with 2 Axes>"
            ]
          },
          "metadata": {
            "tags": [],
            "needs_background": "light"
          }
        }
      ]
    },
    {
      "cell_type": "code",
      "metadata": {
        "id": "t8wjBqFJz6c4",
        "colab_type": "code",
        "outputId": "2a48dd45-2c97-4af6-9979-be27a18085b0",
        "colab": {
          "base_uri": "https://localhost:8080/",
          "height": 289
        }
      },
      "source": [
        "print(classification_report(Ytest, best_clf_KNN.predict(Xtest))) "
      ],
      "execution_count": 0,
      "outputs": [
        {
          "output_type": "stream",
          "text": [
            "              precision    recall  f1-score   support\n",
            "\n",
            "           0       0.75      0.64      0.69       405\n",
            "           1       0.77      0.76      0.76       382\n",
            "           2       0.75      0.66      0.70       405\n",
            "           3       0.79      0.73      0.76       391\n",
            "           4       0.53      0.87      0.66       423\n",
            "           5       0.88      0.71      0.79       368\n",
            "           6       0.71      0.67      0.69       407\n",
            "           7       0.87      0.69      0.77       353\n",
            "           8       0.85      0.92      0.88       354\n",
            "\n",
            "    accuracy                           0.74      3488\n",
            "   macro avg       0.77      0.74      0.74      3488\n",
            "weighted avg       0.76      0.74      0.74      3488\n",
            "\n"
          ],
          "name": "stdout"
        }
      ]
    },
    {
      "cell_type": "code",
      "metadata": {
        "id": "wSpGej2hkp6u",
        "colab_type": "code",
        "colab": {}
      },
      "source": [
        "# trying out random forest"
      ],
      "execution_count": 0,
      "outputs": []
    },
    {
      "cell_type": "code",
      "metadata": {
        "id": "9vIL_MTxksqx",
        "colab_type": "code",
        "colab": {}
      },
      "source": [
        "from sklearn.ensemble import RandomForestClassifier"
      ],
      "execution_count": 0,
      "outputs": []
    },
    {
      "cell_type": "code",
      "metadata": {
        "id": "0UI1ZpPHlJlq",
        "colab_type": "code",
        "outputId": "0073b1d9-5601-42aa-933a-74078e4fe9d6",
        "colab": {
          "base_uri": "https://localhost:8080/",
          "height": 34
        }
      },
      "source": [
        "accuracy_score(Ytest,RandomForestClassifier(n_estimators= 1000).fit(Xtrain,Ytrain).predict(Xtest))"
      ],
      "execution_count": 0,
      "outputs": [
        {
          "output_type": "execute_result",
          "data": {
            "text/plain": [
              "0.7557339449541285"
            ]
          },
          "metadata": {
            "tags": []
          },
          "execution_count": 54
        }
      ]
    },
    {
      "cell_type": "code",
      "metadata": {
        "id": "YZKtFCT9lgJT",
        "colab_type": "code",
        "colab": {}
      },
      "source": [
        "# works no better than a single decision tree, since decision tree is fairly stable\n",
        "#https://stats.stackexchange.com/questions/241062/why-decision-tree-is-outperforming-random-forest-in-this-simple-case"
      ],
      "execution_count": 0,
      "outputs": []
    }
  ]
}